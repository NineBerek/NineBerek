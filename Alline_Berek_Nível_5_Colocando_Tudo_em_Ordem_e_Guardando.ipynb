{
  "nbformat": 4,
  "nbformat_minor": 0,
  "metadata": {
    "colab": {
      "provenance": [],
      "authorship_tag": "ABX9TyO4oh1+OaJ8yyMOPWppYkXB",
      "include_colab_link": true
    },
    "kernelspec": {
      "name": "python3",
      "display_name": "Python 3"
    },
    "language_info": {
      "name": "python"
    }
  },
  "cells": [
    {
      "cell_type": "markdown",
      "metadata": {
        "id": "view-in-github",
        "colab_type": "text"
      },
      "source": [
        "<a href=\"https://colab.research.google.com/github/NineBerek/NineBerek/blob/main/Alline_Berek_N%C3%ADvel_5_Colocando_Tudo_em_Ordem_e_Guardando.ipynb\" target=\"_parent\"><img src=\"https://colab.research.google.com/assets/colab-badge.svg\" alt=\"Open In Colab\"/></a>"
      ]
    },
    {
      "cell_type": "markdown",
      "source": [
        "**1. Instalando pacotes**"
      ],
      "metadata": {
        "id": "BvCWGc9glUqX"
      }
    },
    {
      "cell_type": "code",
      "source": [
        "!pip install faker"
      ],
      "metadata": {
        "colab": {
          "base_uri": "https://localhost:8080/"
        },
        "id": "OtHyoh-MmNtj",
        "outputId": "23c5ffff-91fb-4743-97e0-021f10b28bed"
      },
      "execution_count": 3,
      "outputs": [
        {
          "output_type": "stream",
          "name": "stdout",
          "text": [
            "Looking in indexes: https://pypi.org/simple, https://us-python.pkg.dev/colab-wheels/public/simple/\n",
            "Collecting faker\n",
            "  Downloading Faker-15.3.3-py3-none-any.whl (1.6 MB)\n",
            "\u001b[K     |████████████████████████████████| 1.6 MB 5.3 MB/s \n",
            "\u001b[?25hRequirement already satisfied: python-dateutil>=2.4 in /usr/local/lib/python3.7/dist-packages (from faker) (2.8.2)\n",
            "Requirement already satisfied: typing-extensions>=3.10.0.1 in /usr/local/lib/python3.7/dist-packages (from faker) (4.1.1)\n",
            "Requirement already satisfied: six>=1.5 in /usr/local/lib/python3.7/dist-packages (from python-dateutil>=2.4->faker) (1.15.0)\n",
            "Installing collected packages: faker\n",
            "Successfully installed faker-15.3.3\n"
          ]
        }
      ]
    },
    {
      "cell_type": "code",
      "source": [
        "!pip install wordcloud"
      ],
      "metadata": {
        "colab": {
          "base_uri": "https://localhost:8080/"
        },
        "id": "QH1nzCc6mYPV",
        "outputId": "976baa2c-58df-4f84-fd59-9418a8f52909"
      },
      "execution_count": 2,
      "outputs": [
        {
          "output_type": "stream",
          "name": "stdout",
          "text": [
            "Looking in indexes: https://pypi.org/simple, https://us-python.pkg.dev/colab-wheels/public/simple/\n",
            "Requirement already satisfied: wordcloud in /usr/local/lib/python3.7/dist-packages (1.8.2.2)\n",
            "Requirement already satisfied: pillow in /usr/local/lib/python3.7/dist-packages (from wordcloud) (7.1.2)\n",
            "Requirement already satisfied: numpy>=1.6.1 in /usr/local/lib/python3.7/dist-packages (from wordcloud) (1.21.6)\n",
            "Requirement already satisfied: matplotlib in /usr/local/lib/python3.7/dist-packages (from wordcloud) (3.2.2)\n",
            "Requirement already satisfied: kiwisolver>=1.0.1 in /usr/local/lib/python3.7/dist-packages (from matplotlib->wordcloud) (1.4.4)\n",
            "Requirement already satisfied: python-dateutil>=2.1 in /usr/local/lib/python3.7/dist-packages (from matplotlib->wordcloud) (2.8.2)\n",
            "Requirement already satisfied: pyparsing!=2.0.4,!=2.1.2,!=2.1.6,>=2.0.1 in /usr/local/lib/python3.7/dist-packages (from matplotlib->wordcloud) (3.0.9)\n",
            "Requirement already satisfied: cycler>=0.10 in /usr/local/lib/python3.7/dist-packages (from matplotlib->wordcloud) (0.11.0)\n",
            "Requirement already satisfied: typing-extensions in /usr/local/lib/python3.7/dist-packages (from kiwisolver>=1.0.1->matplotlib->wordcloud) (4.1.1)\n",
            "Requirement already satisfied: six>=1.5 in /usr/local/lib/python3.7/dist-packages (from python-dateutil>=2.1->matplotlib->wordcloud) (1.15.0)\n"
          ]
        }
      ]
    },
    {
      "cell_type": "code",
      "source": [
        "!pip install num2words"
      ],
      "metadata": {
        "colab": {
          "base_uri": "https://localhost:8080/"
        },
        "id": "zJsFoKAs7Oy8",
        "outputId": "eb455ee2-2fb4-42f0-dd1a-bec782b24e5d"
      },
      "execution_count": 4,
      "outputs": [
        {
          "output_type": "stream",
          "name": "stdout",
          "text": [
            "Looking in indexes: https://pypi.org/simple, https://us-python.pkg.dev/colab-wheels/public/simple/\n",
            "Collecting num2words\n",
            "  Downloading num2words-0.5.12-py3-none-any.whl (125 kB)\n",
            "\u001b[K     |████████████████████████████████| 125 kB 5.2 MB/s \n",
            "\u001b[?25hCollecting docopt>=0.6.2\n",
            "  Downloading docopt-0.6.2.tar.gz (25 kB)\n",
            "Building wheels for collected packages: docopt\n",
            "  Building wheel for docopt (setup.py) ... \u001b[?25l\u001b[?25hdone\n",
            "  Created wheel for docopt: filename=docopt-0.6.2-py2.py3-none-any.whl size=13723 sha256=923d579e181532ea8f3dbe19c189e40b97d6d5409dfc1f80c69318bb43438bc4\n",
            "  Stored in directory: /root/.cache/pip/wheels/72/b0/3f/1d95f96ff986c7dfffe46ce2be4062f38ebd04b506c77c81b9\n",
            "Successfully built docopt\n",
            "Installing collected packages: docopt, num2words\n",
            "Successfully installed docopt-0.6.2 num2words-0.5.12\n"
          ]
        }
      ]
    },
    {
      "cell_type": "markdown",
      "source": [
        "**2. Importando bibliotecas**"
      ],
      "metadata": {
        "id": "FzW-XinulnGq"
      }
    },
    {
      "cell_type": "code",
      "source": [
        "import wordcloud\n",
        "import num2words\n",
        "import random\n",
        "from faker import Faker\n",
        "\n"
      ],
      "metadata": {
        "id": "geVqS86NlvPF"
      },
      "execution_count": 5,
      "outputs": []
    },
    {
      "cell_type": "markdown",
      "source": [
        "**3. Gerando dados**"
      ],
      "metadata": {
        "id": "ct-kz-nel3Ms"
      }
    },
    {
      "cell_type": "code",
      "source": [
        "fake = Faker('pt_BR')\n",
        "nomes = []\n",
        "notas = []\n",
        "dados = []\n",
        "\n",
        "for i in range(10):\n",
        "  nomes.append(fake.name())\n",
        "\n",
        "for i in range(10):\n",
        "  notas.append(fake.random_int(1,10))\n",
        "\n",
        "dados = nomes+notas\n",
        "print(dados)\n"
      ],
      "metadata": {
        "colab": {
          "base_uri": "https://localhost:8080/"
        },
        "outputId": "d5e4e3d5-9e3c-462b-e378-b581fa09092e",
        "id": "0BtwbYuXwpsE"
      },
      "execution_count": 26,
      "outputs": [
        {
          "output_type": "stream",
          "name": "stdout",
          "text": [
            "['Juan Silva', 'Luana Campos', 'Isabel Cardoso', 'Giovanna Aragão', 'Davi Castro', 'Fernanda Rocha', 'Luiz Felipe Nunes', 'Ana Clara Alves', 'Sra. Alana Rocha', 'Maria Alice Nunes', 4, 2, 5, 3, 5, 7, 8, 2, 2, 3]\n"
          ]
        }
      ]
    },
    {
      "cell_type": "markdown",
      "source": [
        "**4. Criando um arquivo txt para salvar os dados**"
      ],
      "metadata": {
        "id": "p_ARBgPE983N"
      }
    },
    {
      "cell_type": "code",
      "source": [
        "with open('base1.txt', 'w') as arquivo:\n",
        "  for i in dados:\n",
        "    arquivo.write(str(i) + '\\n')\n",
        "    \n",
        "arquivo.close()"
      ],
      "metadata": {
        "id": "BoLLS7x_6xh9"
      },
      "execution_count": 28,
      "outputs": []
    },
    {
      "cell_type": "markdown",
      "source": [
        "**5. Manipulando os dados para visualizá-los em um histograma**"
      ],
      "metadata": {
        "id": "dybVR6KV-23l"
      }
    },
    {
      "cell_type": "code",
      "source": [
        "import matplotlib.pyplot as plt\n",
        "\n",
        "pontuações = [notas]\n",
        "\n",
        "n, bins, colunas = plt.hist(pontuações,facecolor='blue',alpha=0.75); \n",
        "\n",
        "plt.xlabel('Pontuações')\n",
        "plt.ylabel('Probabilidade')\n",
        "plt.title('Histograma das pontuações')\n",
        "plt.grid(True)\n",
        "plt.show()\n"
      ],
      "metadata": {
        "colab": {
          "base_uri": "https://localhost:8080/",
          "height": 295
        },
        "id": "LhcEMNHq-9V4",
        "outputId": "878177dc-5fac-4409-d66b-4ade254429d0"
      },
      "execution_count": 59,
      "outputs": [
        {
          "output_type": "display_data",
          "data": {
            "text/plain": [
              "<Figure size 432x288 with 1 Axes>"
            ],
            "image/png": "[encoded data removed]"
          },
          "metadata": {
            "needs_background": "light"
          }
        }
      ]
    },
    {
      "cell_type": "markdown",
      "source": [
        "**6. Manipular os dados para visualizá-los em uma nuvem de palavras**"
      ],
      "metadata": {
        "id": "8ZRC9mfzVO0J"
      }
    },
    {
      "cell_type": "code",
      "source": [
        "from wordcloud import WordCloud\n",
        "from num2words import num2words\n",
        "\n",
        "lista = [4,2,5,3,5,7,8,2,2,3]\n",
        "lista = ','.join([num2words(i, lang='pt') for i in lista])\n",
        "\n",
        "nuvem_palavras = WordCloud(background_color='black',\n",
        "                           width=800,height=400).generate(lista)\n",
        "plt.imshow(nuvem_palavras, interpolation='bilinear')\n",
        "plt.axis(\"off\")\n",
        "nuvem_palavras.to_file(\"Nuvem de palavras.png\")"
      ],
      "metadata": {
        "id": "PvhR9H6-ooZK",
        "colab": {
          "base_uri": "https://localhost:8080/",
          "height": 215
        },
        "outputId": "94d80938-14f1-4bb6-a72c-5a2af9da1def"
      },
      "execution_count": 70,
      "outputs": [
        {
          "output_type": "execute_result",
          "data": {
            "text/plain": [
              "<wordcloud.wordcloud.WordCloud at 0x7f5cbe41bf10>"
            ]
          },
          "metadata": {},
          "execution_count": 70
        },
        {
          "output_type": "display_data",
          "data": {
            "text/plain": [
              "<Figure size 432x288 with 1 Axes>"
            ],
            "image/png": "[encoded data removed]"
          },
          "metadata": {
            "needs_background": "light"
          }
        }
      ]
    },
    {
      "cell_type": "markdown",
      "source": [
        "**7. Resposta ao questionário**"
      ],
      "metadata": {
        "id": "k4bGxiTLjgNW"
      }
    },
    {
      "cell_type": "code",
      "source": [],
      "metadata": {
        "id": "FcaJMvS-krKo"
      },
      "execution_count": null,
      "outputs": []
    },
    {
      "cell_type": "markdown",
      "source": [
        "**RELATÓRIO DA PRÁTICA**"
      ],
      "metadata": {
        "id": "bma7PBxZkWgr"
      }
    },
    {
      "cell_type": "markdown",
      "source": [
        "*   Campus: Recife\n",
        "*   Curso: Desenvolvimento Full Stack\n",
        "*   Disciplina: Nível 5 - Colocando Tudo em Ordem e Guardando\n",
        "*   Semestre: Primeiro\n",
        "*   Aluna: Alline Alves Berek\n",
        "*   Matrícula: 202211207691\n",
        "*   Link Github: \n",
        "\n",
        "\n",
        "\n",
        "1.   Título da Prática: Implementação de um programa para manipular dados de um arquivo de texto e visualizá-los em um histograma e nuvem de palavras.\n",
        "\n",
        "2. Objetivo da Prática:\n",
        "a) Gerar dados de testes\n",
        "b) Gravar e recuperar dados de arquivos de textos\n",
        "c) Manipular os dados para visualizá-los em um histograma\n",
        "d) Manipular os dados para visualizá-los em uma nuvem de palavras \n",
        "\n"
      ],
      "metadata": {
        "id": "Ee0jNYsRkyUw"
      }
    }
  ]
}